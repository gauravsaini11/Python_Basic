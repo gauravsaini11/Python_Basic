{
 "cells": [
  {
   "cell_type": "code",
   "execution_count": 1,
   "metadata": {},
   "outputs": [
    {
     "name": "stdout",
     "output_type": "stream",
     "text": [
      "Hello\n"
     ]
    }
   ],
   "source": [
    "print('Hello')"
   ]
  },
  {
   "cell_type": "markdown",
   "metadata": {},
   "source": [
    "# How to assign the value"
   ]
  },
  {
   "cell_type": "code",
   "execution_count": 2,
   "metadata": {},
   "outputs": [
    {
     "name": "stdout",
     "output_type": "stream",
     "text": [
      "10\n",
      "Basic Python\n"
     ]
    }
   ],
   "source": [
    "a = 10\n",
    "print(a)\n",
    "b = 'Basic Python'\n",
    "print(b)"
   ]
  },
  {
   "cell_type": "markdown",
   "metadata": {},
   "source": [
    "# Data type in Python"
   ]
  },
  {
   "cell_type": "markdown",
   "metadata": {},
   "source": [
    "## Numeric"
   ]
  },
  {
   "cell_type": "code",
   "execution_count": 3,
   "metadata": {},
   "outputs": [
    {
     "name": "stdout",
     "output_type": "stream",
     "text": [
      "10.0\n"
     ]
    }
   ],
   "source": [
    "# convert int into float\n",
    "a = 10\n",
    "b = float(a)\n",
    "print(b)"
   ]
  },
  {
   "cell_type": "code",
   "execution_count": 4,
   "metadata": {},
   "outputs": [
    {
     "name": "stdout",
     "output_type": "stream",
     "text": [
      "10\n"
     ]
    }
   ],
   "source": [
    "# convert float into int\n",
    "a = 10.34\n",
    "b = int(a)\n",
    "print(b)"
   ]
  },
  {
   "cell_type": "markdown",
   "metadata": {},
   "source": [
    "## List"
   ]
  },
  {
   "cell_type": "code",
   "execution_count": 5,
   "metadata": {},
   "outputs": [
    {
     "name": "stdout",
     "output_type": "stream",
     "text": [
      "['C', 'C++', 'Python', 'Java', 5]\n"
     ]
    }
   ],
   "source": [
    "sub = ['C', 'C++', 'Python', 'Java', 5]\n",
    "print(sub)"
   ]
  },
  {
   "cell_type": "code",
   "execution_count": 6,
   "metadata": {},
   "outputs": [
    {
     "name": "stdout",
     "output_type": "stream",
     "text": [
      "C\n"
     ]
    }
   ],
   "source": [
    "# Indexing from the List\n",
    "sub = ['C', 'C++', 'Python', 'Java', 5]\n",
    "print(sub[0])"
   ]
  },
  {
   "cell_type": "code",
   "execution_count": 7,
   "metadata": {},
   "outputs": [
    {
     "name": "stdout",
     "output_type": "stream",
     "text": [
      "['C', 'C++', 'Python']\n"
     ]
    }
   ],
   "source": [
    "# indexing more than one element from the list\n",
    "sub = ['C', 'C++', 'Python', 'Java', 5]\n",
    "print(sub[0:3])"
   ]
  },
  {
   "cell_type": "code",
   "execution_count": 8,
   "metadata": {},
   "outputs": [
    {
     "name": "stdout",
     "output_type": "stream",
     "text": [
      "5\n"
     ]
    }
   ],
   "source": [
    "# indexing backward from list\n",
    "sub = ['C', 'C++', 'Python', 'Java', 5]\n",
    "print(sub[-1])"
   ]
  },
  {
   "cell_type": "code",
   "execution_count": 9,
   "metadata": {},
   "outputs": [
    {
     "name": "stdout",
     "output_type": "stream",
     "text": [
      "[5, 'Java', 'Python', 'C++', 'C']\n"
     ]
    }
   ],
   "source": [
    "# reverse the list\n",
    "sub = ['C', 'C++', 'Python', 'Java', 5]\n",
    "print(sub[::-1])"
   ]
  },
  {
   "cell_type": "code",
   "execution_count": 10,
   "metadata": {},
   "outputs": [
    {
     "name": "stdout",
     "output_type": "stream",
     "text": [
      "['C', 'C++', 'Python', 'Java', 'HTML']\n"
     ]
    }
   ],
   "source": [
    "# update into the list\n",
    "sub = ['C', 'C++', 'Python', 'Java', 5]\n",
    "sub[4] = 'HTML'\n",
    "print(sub)"
   ]
  },
  {
   "cell_type": "code",
   "execution_count": 11,
   "metadata": {},
   "outputs": [
    {
     "name": "stdout",
     "output_type": "stream",
     "text": [
      "['C', 'C++', 'Python', 'Java']\n"
     ]
    }
   ],
   "source": [
    "# delete from the list\n",
    "sub = ['C', 'C++', 'Python', 'Java', 5]\n",
    "del sub[4]\n",
    "print(sub)"
   ]
  },
  {
   "cell_type": "code",
   "execution_count": 12,
   "metadata": {},
   "outputs": [
    {
     "data": {
      "text/plain": [
       "5"
      ]
     },
     "execution_count": 12,
     "metadata": {},
     "output_type": "execute_result"
    }
   ],
   "source": [
    "# length of the list\n",
    "sub = ['C', 'C++', 'Python', 'Java', 5]\n",
    "len(sub)"
   ]
  },
  {
   "cell_type": "code",
   "execution_count": 13,
   "metadata": {},
   "outputs": [
    {
     "name": "stdout",
     "output_type": "stream",
     "text": [
      "['C', 'C++', 'Python', 'Java', 5, 'C', 'C++', 'Python', 'Java', 5]\n"
     ]
    }
   ],
   "source": [
    "# repeat the list twice time\n",
    "sub = ['C', 'C++', 'Python', 'Java', 5]\n",
    "print(sub*2)"
   ]
  },
  {
   "cell_type": "markdown",
   "metadata": {},
   "source": [
    "## Tuple"
   ]
  },
  {
   "cell_type": "code",
   "execution_count": 14,
   "metadata": {},
   "outputs": [
    {
     "name": "stdout",
     "output_type": "stream",
     "text": [
      "('C', 'C++', 'Python', 'Java', 5)\n"
     ]
    }
   ],
   "source": [
    "sub = ('C', 'C++', 'Python', 'Java', 5)\n",
    "print(sub)"
   ]
  },
  {
   "cell_type": "code",
   "execution_count": 15,
   "metadata": {},
   "outputs": [
    {
     "name": "stdout",
     "output_type": "stream",
     "text": [
      "C\n"
     ]
    }
   ],
   "source": [
    "# indexing from the tuple\n",
    "sub = ('C', 'C++', 'Python', 'Java', 5)\n",
    "print(sub[0])"
   ]
  },
  {
   "cell_type": "code",
   "execution_count": 16,
   "metadata": {},
   "outputs": [
    {
     "name": "stdout",
     "output_type": "stream",
     "text": [
      "('C', 'C++', 'Python')\n"
     ]
    }
   ],
   "source": [
    "# indexing more than one element from the tuple\n",
    "sub = ('C', 'C++', 'Python', 'Java', 5)\n",
    "print(sub[0:3])"
   ]
  },
  {
   "cell_type": "code",
   "execution_count": 17,
   "metadata": {},
   "outputs": [
    {
     "name": "stdout",
     "output_type": "stream",
     "text": [
      "5\n"
     ]
    }
   ],
   "source": [
    "# indexing backward from the tuple\n",
    "sub = ('C', 'C++', 'Python', 'Java', 5)\n",
    "print(sub[-1])"
   ]
  },
  {
   "cell_type": "code",
   "execution_count": 18,
   "metadata": {},
   "outputs": [
    {
     "name": "stdout",
     "output_type": "stream",
     "text": [
      "(5, 'Java', 'Python', 'C++', 'C')\n"
     ]
    }
   ],
   "source": [
    "# reverse the tuple\n",
    "sub = ('C', 'C++', 'Python', 'Java', 5)\n",
    "print(sub[::-1])"
   ]
  },
  {
   "cell_type": "code",
   "execution_count": 19,
   "metadata": {},
   "outputs": [
    {
     "data": {
      "text/plain": [
       "5"
      ]
     },
     "execution_count": 19,
     "metadata": {},
     "output_type": "execute_result"
    }
   ],
   "source": [
    "# length of the tuple\n",
    "sub = ('C', 'C++', 'Python', 'Java', 5)\n",
    "len(sub)"
   ]
  },
  {
   "cell_type": "code",
   "execution_count": 20,
   "metadata": {},
   "outputs": [
    {
     "name": "stdout",
     "output_type": "stream",
     "text": [
      "('C', 'C++', 'Python', 'Java', 5, 'C', 'C++', 'Python', 'Java', 5)\n"
     ]
    }
   ],
   "source": [
    "# trice the tuple by repeat same tuple\n",
    "sub = ('C', 'C++', 'Python', 'Java', 5)\n",
    "print(sub*2)"
   ]
  },
  {
   "cell_type": "markdown",
   "metadata": {},
   "source": [
    "## Strings"
   ]
  },
  {
   "cell_type": "code",
   "execution_count": 21,
   "metadata": {},
   "outputs": [
    {
     "name": "stdout",
     "output_type": "stream",
     "text": [
      "How to learn Python\n"
     ]
    }
   ],
   "source": [
    "S = 'How to learn Python'\n",
    "print(S)"
   ]
  },
  {
   "cell_type": "code",
   "execution_count": 22,
   "metadata": {},
   "outputs": [
    {
     "name": "stdout",
     "output_type": "stream",
     "text": [
      "19\n"
     ]
    }
   ],
   "source": [
    "# length of the string\n",
    "S = 'How to learn Python'\n",
    "print(len(S))"
   ]
  },
  {
   "cell_type": "code",
   "execution_count": 23,
   "metadata": {},
   "outputs": [
    {
     "name": "stdout",
     "output_type": "stream",
     "text": [
      "7\n"
     ]
    }
   ],
   "source": [
    "# locate a character in the string\n",
    "S = 'How to learn Python'\n",
    "print(S.index(\"learn\"))"
   ]
  },
  {
   "cell_type": "code",
   "execution_count": 24,
   "metadata": {},
   "outputs": [
    {
     "name": "stdout",
     "output_type": "stream",
     "text": [
      "2\n"
     ]
    }
   ],
   "source": [
    "# Count the number of times a character is repeated in a String\n",
    "S = 'How to learn Python and learn Machine Learning'\n",
    "print(S.count(\"learn\"))"
   ]
  },
  {
   "cell_type": "code",
   "execution_count": 25,
   "metadata": {},
   "outputs": [
    {
     "name": "stdout",
     "output_type": "stream",
     "text": [
      "How to \n"
     ]
    }
   ],
   "source": [
    "# Slicing the string\n",
    "S = 'How to learn Python'\n",
    "print(S[0:7])"
   ]
  },
  {
   "cell_type": "code",
   "execution_count": 26,
   "metadata": {},
   "outputs": [
    {
     "name": "stdout",
     "output_type": "stream",
     "text": [
      "nohtyP nrael ot woH\n"
     ]
    }
   ],
   "source": [
    "# reverse the string\n",
    "S = 'How to learn Python'\n",
    "print(S[::-1])"
   ]
  },
  {
   "cell_type": "code",
   "execution_count": 27,
   "metadata": {},
   "outputs": [
    {
     "name": "stdout",
     "output_type": "stream",
     "text": [
      "HOW TO LEARN PYTHON\n"
     ]
    }
   ],
   "source": [
    "# convert the letter in a string into Upper Case\n",
    "S = 'How to learn Python'\n",
    "print(S.upper())"
   ]
  },
  {
   "cell_type": "code",
   "execution_count": 28,
   "metadata": {},
   "outputs": [
    {
     "name": "stdout",
     "output_type": "stream",
     "text": [
      "how to learn python\n"
     ]
    }
   ],
   "source": [
    "# Convert the letter in a string into Lower Case\n",
    "S = 'How to learn Python'\n",
    "print(S.lower())"
   ]
  },
  {
   "cell_type": "markdown",
   "metadata": {},
   "source": [
    "## Set"
   ]
  },
  {
   "cell_type": "code",
   "execution_count": 29,
   "metadata": {},
   "outputs": [
    {
     "name": "stdout",
     "output_type": "stream",
     "text": [
      "{1, 2, 3, 4, 5, 6}\n",
      "{1, 2, 3}\n"
     ]
    }
   ],
   "source": [
    "set = {1,2,3,4,5,6}\n",
    "print(set)\n",
    "set_2 = {1,2,3,3}\n",
    "print(set_2)"
   ]
  },
  {
   "cell_type": "code",
   "execution_count": 30,
   "metadata": {},
   "outputs": [
    {
     "name": "stdout",
     "output_type": "stream",
     "text": [
      "1\n",
      "2\n",
      "3\n",
      "4\n",
      "5\n",
      "6\n"
     ]
    }
   ],
   "source": [
    "# Loop through the set, and print the values\n",
    "set = {1,2,3,4,5,6}\n",
    "for x in set:\n",
    "    print(x)"
   ]
  },
  {
   "cell_type": "code",
   "execution_count": 31,
   "metadata": {},
   "outputs": [
    {
     "name": "stdout",
     "output_type": "stream",
     "text": [
      "False\n"
     ]
    }
   ],
   "source": [
    "#Check if 7 is present in the set\n",
    "set = {1,2,3,4,5,6}\n",
    "print(\"7\" in set)"
   ]
  },
  {
   "cell_type": "code",
   "execution_count": 32,
   "metadata": {},
   "outputs": [
    {
     "name": "stdout",
     "output_type": "stream",
     "text": [
      "{1, 2, 3, 4, 5, 6, 7}\n"
     ]
    }
   ],
   "source": [
    "#Add an item to a set, using the add() method\n",
    "set = {1,2,3,4,5,6}\n",
    "set.add(7)\n",
    "print(set)"
   ]
  },
  {
   "cell_type": "code",
   "execution_count": 33,
   "metadata": {},
   "outputs": [
    {
     "name": "stdout",
     "output_type": "stream",
     "text": [
      "{1, 2, 3, 4, 5, 6, 7, 8, 9}\n"
     ]
    }
   ],
   "source": [
    "# Add multiple items to a set, using the update() method\n",
    "set = {1,2,3,4,5,6}\n",
    "set.update([7,8,9])\n",
    "print(set)"
   ]
  },
  {
   "cell_type": "code",
   "execution_count": 34,
   "metadata": {},
   "outputs": [
    {
     "name": "stdout",
     "output_type": "stream",
     "text": [
      "6\n"
     ]
    }
   ],
   "source": [
    "# length of the set\n",
    "set = {1,2,3,4,5,6}\n",
    "print(len(set))"
   ]
  },
  {
   "cell_type": "code",
   "execution_count": 35,
   "metadata": {},
   "outputs": [
    {
     "name": "stdout",
     "output_type": "stream",
     "text": [
      "{1, 2, 3, 4, 5}\n"
     ]
    }
   ],
   "source": [
    "# Remove \"banana\" by using the discard() method\n",
    "set = {1,2,3,4,5,6}\n",
    "set.discard(6)\n",
    "print(set)"
   ]
  },
  {
   "cell_type": "code",
   "execution_count": 36,
   "metadata": {},
   "outputs": [
    {
     "name": "stdout",
     "output_type": "stream",
     "text": [
      "{1, 2, 3, 5, 6}\n"
     ]
    }
   ],
   "source": [
    "# Remove \"banana\" by using the remove() method\n",
    "set = {1,2,3,4,5,6}\n",
    "set.remove(4)\n",
    "print(set)"
   ]
  },
  {
   "cell_type": "code",
   "execution_count": 37,
   "metadata": {},
   "outputs": [
    {
     "name": "stdout",
     "output_type": "stream",
     "text": [
      "{2, 3, 4, 5, 6}\n"
     ]
    }
   ],
   "source": [
    "# Remove the last item by using the pop() method\n",
    "set = {1,2,3,4,5,6}\n",
    "x = set.pop()\n",
    "print(set)"
   ]
  },
  {
   "cell_type": "code",
   "execution_count": 38,
   "metadata": {},
   "outputs": [
    {
     "name": "stdout",
     "output_type": "stream",
     "text": [
      "set()\n"
     ]
    }
   ],
   "source": [
    "# The clear() method empties the set\n",
    "set = {1,2,3,4,5,6}\n",
    "set.clear()\n",
    "print(set)"
   ]
  },
  {
   "cell_type": "code",
   "execution_count": 39,
   "metadata": {},
   "outputs": [
    {
     "name": "stdout",
     "output_type": "stream",
     "text": [
      "<class 'set'>\n"
     ]
    }
   ],
   "source": [
    "# The del keyword will delete the set completely\n",
    "set = {1,2,3,4,5,6}\n",
    "del set\n",
    "print(set)"
   ]
  },
  {
   "cell_type": "code",
   "execution_count": 40,
   "metadata": {},
   "outputs": [
    {
     "name": "stdout",
     "output_type": "stream",
     "text": [
      "{1, 2, 3, 4, 5, 6, 7, 8, 9}\n"
     ]
    }
   ],
   "source": [
    "# Union of two sets A & B\n",
    "A = {1,2,3,4,5,6}\n",
    "B = {3,4,5,6,7,8,9}\n",
    "print(A | B)"
   ]
  },
  {
   "cell_type": "code",
   "execution_count": 41,
   "metadata": {},
   "outputs": [
    {
     "name": "stdout",
     "output_type": "stream",
     "text": [
      "{3, 4, 5, 6}\n"
     ]
    }
   ],
   "source": [
    "# intersection of two sets A & B\n",
    "A = {1,2,3,4,5,6}\n",
    "B = {3,4,5,6,7,8,9}\n",
    "print(A & B)"
   ]
  },
  {
   "cell_type": "code",
   "execution_count": 42,
   "metadata": {},
   "outputs": [
    {
     "name": "stdout",
     "output_type": "stream",
     "text": [
      "{1, 2}\n"
     ]
    }
   ],
   "source": [
    "# difference between two sets A & B\n",
    "A = {1,2,3,4,5,6}\n",
    "B = {3,4,5,6,7,8,9}\n",
    "print(A-B)"
   ]
  },
  {
   "cell_type": "code",
   "execution_count": 43,
   "metadata": {},
   "outputs": [
    {
     "name": "stdout",
     "output_type": "stream",
     "text": [
      "{1, 2, 7, 8, 9}\n"
     ]
    }
   ],
   "source": [
    "# Symmertic Difference between two sets A & B\n",
    "A = {1,2,3,4,5,6}\n",
    "B = {3,4,5,6,7,8,9}\n",
    "print(A^B)"
   ]
  },
  {
   "cell_type": "markdown",
   "metadata": {},
   "source": [
    "## Dictionary"
   ]
  },
  {
   "cell_type": "code",
   "execution_count": 44,
   "metadata": {},
   "outputs": [
    {
     "name": "stdout",
     "output_type": "stream",
     "text": [
      "{'Name': 'Gaurav', 'Age': 23}\n"
     ]
    }
   ],
   "source": [
    "dict = {'Name' : 'Gaurav', 'Age' : 23}\n",
    "print(dict)"
   ]
  },
  {
   "cell_type": "code",
   "execution_count": 45,
   "metadata": {},
   "outputs": [
    {
     "name": "stdout",
     "output_type": "stream",
     "text": [
      "Gaurav\n",
      "Gaurav\n"
     ]
    }
   ],
   "source": [
    "# Access elements from a dictionary\n",
    "dict = {'Name' : 'Gaurav', 'Age' : 23}\n",
    "print(dict['Name'])\n",
    "print(dict.get('Name'))"
   ]
  },
  {
   "cell_type": "code",
   "execution_count": 46,
   "metadata": {},
   "outputs": [
    {
     "name": "stdout",
     "output_type": "stream",
     "text": [
      "{'Name': 'Gaurav', 'Age': 23, 'Address': 'NANAUTA'}\n"
     ]
    }
   ],
   "source": [
    "# add new element in a Dictionary\n",
    "dict = {'Name' : 'Gaurav', 'Age' : 23}\n",
    "dict['Address'] = 'NANAUTA'\n",
    "print(dict)"
   ]
  },
  {
   "cell_type": "code",
   "execution_count": 47,
   "metadata": {},
   "outputs": [
    {
     "name": "stdout",
     "output_type": "stream",
     "text": [
      "{'Name': 'Gaurav', 'Age': 22}\n"
     ]
    }
   ],
   "source": [
    "# Changing or update element in a Dictionary\n",
    "dict = {'Name' : 'Gaurav', 'Age' : 23}\n",
    "dict['Age'] = 22\n",
    "print(dict)"
   ]
  },
  {
   "cell_type": "code",
   "execution_count": 48,
   "metadata": {},
   "outputs": [
    {
     "name": "stdout",
     "output_type": "stream",
     "text": [
      "2\n"
     ]
    }
   ],
   "source": [
    "# length of Dictionary\n",
    "dict = {'Name' : 'Gaurav', 'Age' : 23}\n",
    "print(len(dict))"
   ]
  },
  {
   "cell_type": "code",
   "execution_count": 49,
   "metadata": {},
   "outputs": [
    {
     "name": "stdout",
     "output_type": "stream",
     "text": [
      "{'Age': 23}\n"
     ]
    }
   ],
   "source": [
    "# remove element by pop method\n",
    "dict = {'Name' : 'Gaurav', 'Age' : 23}\n",
    "dict.pop('Name')\n",
    "print(dict)"
   ]
  },
  {
   "cell_type": "code",
   "execution_count": 50,
   "metadata": {},
   "outputs": [
    {
     "name": "stdout",
     "output_type": "stream",
     "text": [
      "{'Name': 'Gaurav'}\n"
     ]
    }
   ],
   "source": [
    "# The popitem() method removes the last inserted item\n",
    "dict = {'Name' : 'Gaurav', 'Age' : 23}\n",
    "dict.popitem()\n",
    "print(dict)"
   ]
  },
  {
   "cell_type": "code",
   "execution_count": 51,
   "metadata": {},
   "outputs": [
    {
     "name": "stdout",
     "output_type": "stream",
     "text": [
      "{'Age': 23}\n"
     ]
    }
   ],
   "source": [
    "# The del keyword removes the item with the specified key name\n",
    "dict = {'Name' : 'Gaurav', 'Age' : 23}\n",
    "del dict['Name']\n",
    "print(dict)"
   ]
  },
  {
   "cell_type": "code",
   "execution_count": 52,
   "metadata": {},
   "outputs": [
    {
     "name": "stdout",
     "output_type": "stream",
     "text": [
      "<class 'dict'>\n"
     ]
    }
   ],
   "source": [
    "# The del keyword can also delete the dictionary completely\n",
    "dict = {'Name' : 'Gaurav', 'Age' : 23}\n",
    "del dict\n",
    "print(dict)"
   ]
  },
  {
   "cell_type": "code",
   "execution_count": 53,
   "metadata": {},
   "outputs": [
    {
     "name": "stdout",
     "output_type": "stream",
     "text": [
      "{}\n"
     ]
    }
   ],
   "source": [
    "# The clear() method empties the dictionary\n",
    "dict = {'Name' : 'Gaurav', 'Age' : 23}\n",
    "dict.clear()\n",
    "print(dict)"
   ]
  },
  {
   "cell_type": "markdown",
   "metadata": {},
   "source": [
    "# Operators in Python"
   ]
  },
  {
   "cell_type": "markdown",
   "metadata": {},
   "source": [
    "## Arithmetic Operators"
   ]
  },
  {
   "cell_type": "code",
   "execution_count": 54,
   "metadata": {},
   "outputs": [
    {
     "name": "stdout",
     "output_type": "stream",
     "text": [
      "46\n"
     ]
    }
   ],
   "source": [
    "# Addition\n",
    "a = 12\n",
    "b = 34\n",
    "c = a + b\n",
    "print(c)"
   ]
  },
  {
   "cell_type": "code",
   "execution_count": 55,
   "metadata": {},
   "outputs": [
    {
     "name": "stdout",
     "output_type": "stream",
     "text": [
      "22\n"
     ]
    }
   ],
   "source": [
    "# Subtraction\n",
    "a = 34\n",
    "b = 12\n",
    "c = a - b\n",
    "print(c)"
   ]
  },
  {
   "cell_type": "code",
   "execution_count": 56,
   "metadata": {},
   "outputs": [
    {
     "name": "stdout",
     "output_type": "stream",
     "text": [
      "408\n"
     ]
    }
   ],
   "source": [
    "# Multiplication\n",
    "a = 34\n",
    "b = 12\n",
    "c = a * b\n",
    "print(c)"
   ]
  },
  {
   "cell_type": "code",
   "execution_count": 57,
   "metadata": {},
   "outputs": [
    {
     "name": "stdout",
     "output_type": "stream",
     "text": [
      "2.8333333333333335\n"
     ]
    }
   ],
   "source": [
    "# Division\n",
    "a = 34\n",
    "b = 12\n",
    "c = a / b\n",
    "print(c)"
   ]
  },
  {
   "cell_type": "code",
   "execution_count": 58,
   "metadata": {},
   "outputs": [
    {
     "name": "stdout",
     "output_type": "stream",
     "text": [
      "10\n"
     ]
    }
   ],
   "source": [
    "# Modulus\n",
    "a = 34\n",
    "b = 12\n",
    "c = a % b\n",
    "print(c)"
   ]
  },
  {
   "cell_type": "code",
   "execution_count": 59,
   "metadata": {},
   "outputs": [
    {
     "name": "stdout",
     "output_type": "stream",
     "text": [
      "2386420683693101056\n"
     ]
    }
   ],
   "source": [
    "# Exponent\n",
    "a = 34\n",
    "b = 12\n",
    "c = a**b\n",
    "print(c)"
   ]
  },
  {
   "cell_type": "markdown",
   "metadata": {},
   "source": [
    "## Comparison Operators"
   ]
  },
  {
   "cell_type": "code",
   "execution_count": 60,
   "metadata": {},
   "outputs": [
    {
     "name": "stdout",
     "output_type": "stream",
     "text": [
      "a is not equal to b\n"
     ]
    }
   ],
   "source": [
    "# If the values of two operands are equal, then the condition becomes true\n",
    "a = 22\n",
    "b = 12\n",
    "if(a==b):\n",
    "    print('a is equal to b')\n",
    "else:\n",
    "    print('a is not equal to b')"
   ]
  },
  {
   "cell_type": "code",
   "execution_count": 61,
   "metadata": {},
   "outputs": [
    {
     "name": "stdout",
     "output_type": "stream",
     "text": [
      "a is not equal to b\n"
     ]
    }
   ],
   "source": [
    "# If values of two operands are not equal, then condition becomes true\n",
    "a = 22\n",
    "b = 12\n",
    "if(a!=b):\n",
    "    print('a is not equal to b')\n",
    "else:\n",
    "    print('a is equal to b')"
   ]
  },
  {
   "cell_type": "code",
   "execution_count": 62,
   "metadata": {},
   "outputs": [
    {
     "name": "stdout",
     "output_type": "stream",
     "text": [
      "a is greater than b\n"
     ]
    }
   ],
   "source": [
    "# If the value of left operand is greater than the value of right operand, then condition becomes true\n",
    "a = 22\n",
    "b = 12\n",
    "if(a<b):\n",
    "    print('a is less than b')\n",
    "else:\n",
    "    print('a is greater than b')"
   ]
  },
  {
   "cell_type": "code",
   "execution_count": 63,
   "metadata": {},
   "outputs": [
    {
     "name": "stdout",
     "output_type": "stream",
     "text": [
      "a is greater than b\n"
     ]
    }
   ],
   "source": [
    "# If the value of left operand is less than the value of right operand, then condition becomes true\n",
    "a = 22\n",
    "b = 12\n",
    "if(a>b):\n",
    "    print('a is greater than b')\n",
    "else:\n",
    "    print('a is less than b')"
   ]
  },
  {
   "cell_type": "code",
   "execution_count": 64,
   "metadata": {},
   "outputs": [
    {
     "name": "stdout",
     "output_type": "stream",
     "text": [
      "a is either less than or equal to b\n"
     ]
    }
   ],
   "source": [
    "# If the value of left operand is greater than or equal to the value of right operand, then condition becomes true\n",
    "a = 5\n",
    "b = 20\n",
    "if(a<=b):\n",
    "    print (\"a is either less than or equal to b\")\n",
    "else: \n",
    "    print (\"a is neither less than nor equal to b\")"
   ]
  },
  {
   "cell_type": "code",
   "execution_count": 65,
   "metadata": {},
   "outputs": [
    {
     "name": "stdout",
     "output_type": "stream",
     "text": [
      "a is neither greater than  nor equal to b\n"
     ]
    }
   ],
   "source": [
    "# If the value of left operand is less than or equal to the value of right operand, then condition becomes true\n",
    "a = 5\n",
    "b = 20\n",
    "if(a>=b):\n",
    "    print (\"a is either greater than  or equal to b\")\n",
    "else:\n",
    "    print(\"a is neither greater than  nor equal to b\")"
   ]
  },
  {
   "cell_type": "markdown",
   "metadata": {},
   "source": [
    "## Assignment Operators"
   ]
  },
  {
   "cell_type": "code",
   "execution_count": 66,
   "metadata": {},
   "outputs": [
    {
     "name": "stdout",
     "output_type": "stream",
     "text": [
      "31\n"
     ]
    }
   ],
   "source": [
    "# Assigns values from right side operands to left side operand\n",
    "a = 21\n",
    "b = 10\n",
    "c = a+b\n",
    "print(c)"
   ]
  },
  {
   "cell_type": "code",
   "execution_count": 67,
   "metadata": {},
   "outputs": [
    {
     "name": "stdout",
     "output_type": "stream",
     "text": [
      "52\n"
     ]
    }
   ],
   "source": [
    "# It adds right operand to the left operand and assign the result to left operand\n",
    "a = 21\n",
    "b = 10\n",
    "c += a\n",
    "print(c)"
   ]
  },
  {
   "cell_type": "code",
   "execution_count": 68,
   "metadata": {},
   "outputs": [
    {
     "name": "stdout",
     "output_type": "stream",
     "text": [
      "31\n"
     ]
    }
   ],
   "source": [
    "# It subtracts right operand from the left operand and assign the result to left operand\n",
    "a = 21\n",
    "b = 10\n",
    "c -= a\n",
    "print(c)"
   ]
  },
  {
   "cell_type": "code",
   "execution_count": 69,
   "metadata": {},
   "outputs": [
    {
     "name": "stdout",
     "output_type": "stream",
     "text": [
      "651\n"
     ]
    }
   ],
   "source": [
    "# It multiplies right operand with the left operand and assign the result to left operand\n",
    "a = 21\n",
    "b = 10\n",
    "c *= a\n",
    "print(c)"
   ]
  },
  {
   "cell_type": "code",
   "execution_count": 70,
   "metadata": {},
   "outputs": [
    {
     "name": "stdout",
     "output_type": "stream",
     "text": [
      "65.1\n"
     ]
    }
   ],
   "source": [
    "# It divides left operand with the right operand and assign the result to left operand\n",
    "a = 21\n",
    "b = 10\n",
    "c /= b\n",
    "print(c)"
   ]
  },
  {
   "cell_type": "code",
   "execution_count": 71,
   "metadata": {},
   "outputs": [
    {
     "name": "stdout",
     "output_type": "stream",
     "text": [
      "2\n"
     ]
    }
   ],
   "source": [
    "# It takes modulus using two operands and assign the result to left operand\n",
    "a = 21\n",
    "b = 11\n",
    "c = 2\n",
    "c %= a\n",
    "print(c)"
   ]
  },
  {
   "cell_type": "code",
   "execution_count": 72,
   "metadata": {},
   "outputs": [
    {
     "name": "stdout",
     "output_type": "stream",
     "text": [
      "2097152\n"
     ]
    }
   ],
   "source": [
    "# Performs exponential (power) calculation on operators and assign value to the left operand\n",
    "a = 21\n",
    "b = 10\n",
    "c = 2\n",
    "c **= a\n",
    "print(c)"
   ]
  },
  {
   "cell_type": "markdown",
   "metadata": {},
   "source": [
    "## Bitwise Operators"
   ]
  },
  {
   "cell_type": "code",
   "execution_count": 73,
   "metadata": {},
   "outputs": [
    {
     "name": "stdout",
     "output_type": "stream",
     "text": [
      "8\n"
     ]
    }
   ],
   "source": [
    "# Binary AND Operator\n",
    "a = 58\n",
    "b = 13\n",
    "c = a & b\n",
    "print(c)"
   ]
  },
  {
   "cell_type": "code",
   "execution_count": 74,
   "metadata": {},
   "outputs": [
    {
     "name": "stdout",
     "output_type": "stream",
     "text": [
      "63\n"
     ]
    }
   ],
   "source": [
    "# Binary OR Operator\n",
    "a = 58\n",
    "b = 13\n",
    "c = a | b\n",
    "print(c)"
   ]
  },
  {
   "cell_type": "code",
   "execution_count": 75,
   "metadata": {},
   "outputs": [
    {
     "name": "stdout",
     "output_type": "stream",
     "text": [
      "52\n"
     ]
    }
   ],
   "source": [
    "# Binary XOR Operator\n",
    "a = 58\n",
    "b = 14\n",
    "c = a ^ b\n",
    "print(c)"
   ]
  },
  {
   "cell_type": "code",
   "execution_count": 76,
   "metadata": {},
   "outputs": [
    {
     "name": "stdout",
     "output_type": "stream",
     "text": [
      "232\n"
     ]
    }
   ],
   "source": [
    "# Binary Left Shift Operator\n",
    "a = 58\n",
    "b = 14\n",
    "c = a << 2\n",
    "print(c)"
   ]
  },
  {
   "cell_type": "code",
   "execution_count": 77,
   "metadata": {},
   "outputs": [
    {
     "name": "stdout",
     "output_type": "stream",
     "text": [
      "3\n"
     ]
    }
   ],
   "source": [
    "# Binary Right Shift Operator\n",
    "a = 58\n",
    "b = 14\n",
    "c = b >> 2\n",
    "print(c)"
   ]
  },
  {
   "cell_type": "markdown",
   "metadata": {},
   "source": [
    "## Logical Operators"
   ]
  },
  {
   "cell_type": "code",
   "execution_count": 78,
   "metadata": {},
   "outputs": [
    {
     "name": "stdout",
     "output_type": "stream",
     "text": [
      "a and b is False\n"
     ]
    }
   ],
   "source": [
    "# Logical AND operator\n",
    "a = True\n",
    "b = False\n",
    "c = a and b\n",
    "print('a and b is',c)"
   ]
  },
  {
   "cell_type": "code",
   "execution_count": 79,
   "metadata": {},
   "outputs": [
    {
     "name": "stdout",
     "output_type": "stream",
     "text": [
      "a and b is True\n"
     ]
    }
   ],
   "source": [
    "# Logical OR operator\n",
    "a = True\n",
    "b = False\n",
    "c = a or b\n",
    "print('a and b is',c)"
   ]
  },
  {
   "cell_type": "code",
   "execution_count": 80,
   "metadata": {},
   "outputs": [
    {
     "name": "stdout",
     "output_type": "stream",
     "text": [
      "a and b is True\n"
     ]
    }
   ],
   "source": [
    "# Logical NOT operator\n",
    "a = True\n",
    "b = False\n",
    "c = not b\n",
    "print('a and b is',c)"
   ]
  },
  {
   "cell_type": "markdown",
   "metadata": {},
   "source": [
    "## Membership Operators"
   ]
  },
  {
   "cell_type": "code",
   "execution_count": 81,
   "metadata": {},
   "outputs": [
    {
     "name": "stdout",
     "output_type": "stream",
     "text": [
      "True\n"
     ]
    }
   ],
   "source": [
    "# 'in' operator (True if value/variable is found in the sequence)\n",
    "A = [1,2,3,4,5,6,7,8,9]\n",
    "B = 5\n",
    "print(B in A)"
   ]
  },
  {
   "cell_type": "code",
   "execution_count": 82,
   "metadata": {},
   "outputs": [
    {
     "name": "stdout",
     "output_type": "stream",
     "text": [
      "False\n"
     ]
    }
   ],
   "source": [
    "# 'not in' operator (True if value/variable is not found in the sequence)\n",
    "A = [1,2,3,4,5,6,7,8,9]\n",
    "B = 5\n",
    "print(B not in A)"
   ]
  },
  {
   "cell_type": "markdown",
   "metadata": {},
   "source": [
    "## Identity Operators"
   ]
  },
  {
   "cell_type": "code",
   "execution_count": 83,
   "metadata": {},
   "outputs": [
    {
     "name": "stdout",
     "output_type": "stream",
     "text": [
      "False\n",
      "False\n"
     ]
    }
   ],
   "source": [
    "# 'is' operator (True if the operands are identical)\n",
    "X1 = 'My name is Gaurav!'\n",
    "X2 = 1234\n",
    "Y1 = 'My name is Gaurav!'\n",
    "Y2 = 1234\n",
    "print(X1 is Y1)\n",
    "print(X1 is X2)"
   ]
  },
  {
   "cell_type": "code",
   "execution_count": 84,
   "metadata": {},
   "outputs": [
    {
     "name": "stdout",
     "output_type": "stream",
     "text": [
      "True\n",
      "True\n"
     ]
    }
   ],
   "source": [
    "# 'is not' operator (True if the operands are not identical)\n",
    "X1 = 'My name is Gaurav!'\n",
    "X2 = 1234\n",
    "Y1 = 'My name is Gaurav!'\n",
    "Y2 = 1234\n",
    "print(X1 is not Y1)\n",
    "print(X1 is not Y2)"
   ]
  },
  {
   "cell_type": "markdown",
   "metadata": {},
   "source": [
    "# Conditional Statements"
   ]
  },
  {
   "cell_type": "code",
   "execution_count": 85,
   "metadata": {},
   "outputs": [
    {
     "name": "stdout",
     "output_type": "stream",
     "text": [
      "A is less than B\n"
     ]
    }
   ],
   "source": [
    "A = 45\n",
    "B = 67\n",
    "if A < B:\n",
    "    print('A is less than B')\n",
    "elif A > B:\n",
    "    print('A is greater than B')\n",
    "else:\n",
    "    print('A and B are equal')"
   ]
  },
  {
   "cell_type": "markdown",
   "metadata": {},
   "source": [
    "# Loops"
   ]
  },
  {
   "cell_type": "markdown",
   "metadata": {},
   "source": [
    "## While Loop"
   ]
  },
  {
   "cell_type": "code",
   "execution_count": 86,
   "metadata": {},
   "outputs": [
    {
     "name": "stdout",
     "output_type": "stream",
     "text": [
      "0\n",
      "1\n",
      "2\n",
      "3\n",
      "4\n",
      "5\n",
      "6\n",
      "7\n",
      "8\n",
      "9\n",
      "Good Bye\n"
     ]
    }
   ],
   "source": [
    "c = 0\n",
    "while(c < 10):\n",
    "    print(c)\n",
    "    c = c + 1\n",
    "print('Good Bye')"
   ]
  },
  {
   "cell_type": "markdown",
   "metadata": {},
   "source": [
    "## For Loop"
   ]
  },
  {
   "cell_type": "code",
   "execution_count": 87,
   "metadata": {},
   "outputs": [
    {
     "name": "stdout",
     "output_type": "stream",
     "text": [
      "1\n",
      "2\n",
      "3\n",
      "4\n",
      "5\n",
      "6\n"
     ]
    }
   ],
   "source": [
    "s = [1,2,3,4,5,6]\n",
    "for index in range(len(s)):\n",
    "    print(s[index])"
   ]
  },
  {
   "cell_type": "markdown",
   "metadata": {},
   "source": [
    "## Nested Loop"
   ]
  },
  {
   "cell_type": "code",
   "execution_count": 88,
   "metadata": {},
   "outputs": [
    {
     "name": "stdout",
     "output_type": "stream",
     "text": [
      "\n",
      "1\n",
      "22\n",
      "333\n",
      "4444\n",
      "55555\n",
      "666666\n",
      "7777777\n",
      "88888888\n",
      "999999999\n"
     ]
    }
   ],
   "source": [
    "count = 1\n",
    "for i in range(10):\n",
    "    print(str(i)*i)\n",
    "    for j in range(0,i):\n",
    "        count = count +1"
   ]
  },
  {
   "cell_type": "markdown",
   "metadata": {},
   "source": [
    "# Functions"
   ]
  },
  {
   "cell_type": "code",
   "execution_count": 89,
   "metadata": {},
   "outputs": [
    {
     "name": "stdout",
     "output_type": "stream",
     "text": [
      "50\n"
     ]
    }
   ],
   "source": [
    "def add(a,b):\n",
    "    return a + b\n",
    "c = add(20,30)\n",
    "print(c)"
   ]
  }
 ],
 "metadata": {
  "kernelspec": {
   "display_name": "Python 3",
   "language": "python",
   "name": "python3"
  },
  "language_info": {
   "codemirror_mode": {
    "name": "ipython",
    "version": 3
   },
   "file_extension": ".py",
   "mimetype": "text/x-python",
   "name": "python",
   "nbconvert_exporter": "python",
   "pygments_lexer": "ipython3",
   "version": "3.8.3"
  }
 },
 "nbformat": 4,
 "nbformat_minor": 4
}
